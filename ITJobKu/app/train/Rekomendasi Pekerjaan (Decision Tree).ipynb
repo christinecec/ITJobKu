{
  "cells": [
    {
      "cell_type": "markdown",
      "id": "1a750669",
      "metadata": {
        "id": "1a750669"
      },
      "source": [
        "# Rekomendasi Pekerjaan (Decision Tree)\n",
        "Fibonacci - AI Mastery <br>\n",
        "Tim abc5 <br>\n",
        "2022 <br>"
      ]
    },
    {
      "cell_type": "markdown",
      "id": "c1c0a7da",
      "metadata": {
        "id": "c1c0a7da"
      },
      "source": [
        "# 1. Import Libraries"
      ]
    },
    {
      "cell_type": "code",
      "execution_count": 1,
      "id": "31596f06",
      "metadata": {
        "id": "31596f06"
      },
      "outputs": [],
      "source": [
        "import pandas as pd\n",
        "import numpy as np\n",
        "import matplotlib.pyplot as plt\n",
        "import seaborn as sns\n",
        "from sklearn.model_selection import train_test_split\n",
        "from sklearn.metrics import confusion_matrix,accuracy_score\n",
        "from sklearn.tree import DecisionTreeClassifier\n",
        "import joblib"
      ]
    },
    {
      "cell_type": "markdown",
      "id": "0642f0b6",
      "metadata": {
        "id": "0642f0b6"
      },
      "source": [
        "# 2. Color Palette"
      ]
    },
    {
      "cell_type": "code",
      "execution_count": 2,
      "id": "17530ff6",
      "metadata": {
        "scrolled": true,
        "colab": {
          "base_uri": "https://localhost:8080/",
          "height": 161
        },
        "id": "17530ff6",
        "outputId": "0aac9134-b67b-4140-ebf7-dc84c7bd798b"
      },
      "outputs": [
        {
          "output_type": "display_data",
          "data": {
            "text/plain": [
              "<Figure size 360x72 with 1 Axes>"
            ],
            "image/png": "[encoded data removed]"
          },
          "metadata": {
            "needs_background": "light"
          }
        },
        {
          "output_type": "display_data",
          "data": {
            "text/plain": [
              "<Figure size 360x72 with 1 Axes>"
            ],
            "image/png": "[encoded data removed]"
          },
          "metadata": {
            "needs_background": "light"
          }
        }
      ],
      "source": [
        "# --- Create List of Color Palletes ---\n",
        "pink_grad = ['#8A0030', '#BA1141', '#FF5C8A', '#FF99B9', '#FFDEEB']\n",
        "black_grad = ['#100C07', '#3E3B39', '#6D6A6A', '#9B9A9C', '#CAC9CD']\n",
        "\n",
        "# --- Plot Color Palletes --\n",
        "sns.palplot(pink_grad)\n",
        "sns.palplot(black_grad)"
      ]
    },
    {
      "cell_type": "markdown",
      "id": "77fbfca9",
      "metadata": {
        "id": "77fbfca9"
      },
      "source": [
        "# 3. Data Acquisition"
      ]
    },
    {
      "cell_type": "code",
      "execution_count": 3,
      "id": "9445e8f9",
      "metadata": {
        "scrolled": true,
        "colab": {
          "base_uri": "https://localhost:8080/",
          "height": 607
        },
        "id": "9445e8f9",
        "outputId": "e852afe7-3fc3-467a-8850-0d45fd9acfc3"
      },
      "outputs": [
        {
          "output_type": "execute_result",
          "data": {
            "text/plain": [
              "      Unnamed: 0        certifications          workshops  \\\n",
              "0              0  information security            testing   \n",
              "1              1     shell programming            testing   \n",
              "2              2  information security            testing   \n",
              "3              3         r programming  database security   \n",
              "4              4         distro making   game development   \n",
              "...          ...                   ...                ...   \n",
              "6896        6896     shell programming            hacking   \n",
              "6897        6897      machine learning            hacking   \n",
              "6898        6898         distro making       data science   \n",
              "6899        6899       app development   game development   \n",
              "6900        6900  information security  database security   \n",
              "\n",
              "     memory capability score    Interested subjects   interested career area   \\\n",
              "0                       poor            programming                   testing   \n",
              "1                     medium             Management          system developer   \n",
              "2                       poor       data engineering  Business process analyst   \n",
              "3                       poor               networks                   testing   \n",
              "4                     medium   Software Engineering          system developer   \n",
              "...                      ...                    ...                       ...   \n",
              "6896                    poor   Software Engineering                   testing   \n",
              "6897               excellent            programming                   testing   \n",
              "6898                    poor                    IOT          system developer   \n",
              "6899               excellent       data engineering                 developer   \n",
              "6900                  medium  Computer Architecture                  security   \n",
              "\n",
              "     Type of company want to settle in? worked in teams ever?  \\\n",
              "0                                   BPA                   yes   \n",
              "1                        Cloud Services                    no   \n",
              "2                   product development                    no   \n",
              "3     Testing and Maintainance Services                   yes   \n",
              "4                                   BPA                   yes   \n",
              "...                                 ...                   ...   \n",
              "6896  Testing and Maintainance Services                    no   \n",
              "6897  Testing and Maintainance Services                    no   \n",
              "6898                     Cloud Services                   yes   \n",
              "6899                      SAaS services                    no   \n",
              "6900                Sales and Marketing                   yes   \n",
              "\n",
              "          Suggested Job Role  \n",
              "0     Applications Developer  \n",
              "1     Applications Developer  \n",
              "2     Applications Developer  \n",
              "3     Applications Developer  \n",
              "4     Applications Developer  \n",
              "...                      ...  \n",
              "6896           Web Developer  \n",
              "6897           Web Developer  \n",
              "6898           Web Developer  \n",
              "6899           Web Developer  \n",
              "6900           Web Developer  \n",
              "\n",
              "[6901 rows x 9 columns]"
            ],
            "text/html": [
              "\n",
              "  <div id=\"df-4610b0fd-ae84-4ab8-83a5-665cb91fcd23\">\n",
              "    <div class=\"colab-df-container\">\n",
              "      <div>\n",
              "<style scoped>\n",
              "    .dataframe tbody tr th:only-of-type {\n",
              "        vertical-align: middle;\n",
              "    }\n",
              "\n",
              "    .dataframe tbody tr th {\n",
              "        vertical-align: top;\n",
              "    }\n",
              "\n",
              "    .dataframe thead th {\n",
              "        text-align: right;\n",
              "    }\n",
              "</style>\n",
              "<table border=\"1\" class=\"dataframe\">\n",
              "  <thead>\n",
              "    <tr style=\"text-align: right;\">\n",
              "      <th></th>\n",
              "      <th>Unnamed: 0</th>\n",
              "      <th>certifications</th>\n",
              "      <th>workshops</th>\n",
              "      <th>memory capability score</th>\n",
              "      <th>Interested subjects</th>\n",
              "      <th>interested career area</th>\n",
              "      <th>Type of company want to settle in?</th>\n",
              "      <th>worked in teams ever?</th>\n",
              "      <th>Suggested Job Role</th>\n",
              "    </tr>\n",
              "  </thead>\n",
              "  <tbody>\n",
              "    <tr>\n",
              "      <th>0</th>\n",
              "      <td>0</td>\n",
              "      <td>information security</td>\n",
              "      <td>testing</td>\n",
              "      <td>poor</td>\n",
              "      <td>programming</td>\n",
              "      <td>testing</td>\n",
              "      <td>BPA</td>\n",
              "      <td>yes</td>\n",
              "      <td>Applications Developer</td>\n",
              "    </tr>\n",
              "    <tr>\n",
              "      <th>1</th>\n",
              "      <td>1</td>\n",
              "      <td>shell programming</td>\n",
              "      <td>testing</td>\n",
              "      <td>medium</td>\n",
              "      <td>Management</td>\n",
              "      <td>system developer</td>\n",
              "      <td>Cloud Services</td>\n",
              "      <td>no</td>\n",
              "      <td>Applications Developer</td>\n",
              "    </tr>\n",
              "    <tr>\n",
              "      <th>2</th>\n",
              "      <td>2</td>\n",
              "      <td>information security</td>\n",
              "      <td>testing</td>\n",
              "      <td>poor</td>\n",
              "      <td>data engineering</td>\n",
              "      <td>Business process analyst</td>\n",
              "      <td>product development</td>\n",
              "      <td>no</td>\n",
              "      <td>Applications Developer</td>\n",
              "    </tr>\n",
              "    <tr>\n",
              "      <th>3</th>\n",
              "      <td>3</td>\n",
              "      <td>r programming</td>\n",
              "      <td>database security</td>\n",
              "      <td>poor</td>\n",
              "      <td>networks</td>\n",
              "      <td>testing</td>\n",
              "      <td>Testing and Maintainance Services</td>\n",
              "      <td>yes</td>\n",
              "      <td>Applications Developer</td>\n",
              "    </tr>\n",
              "    <tr>\n",
              "      <th>4</th>\n",
              "      <td>4</td>\n",
              "      <td>distro making</td>\n",
              "      <td>game development</td>\n",
              "      <td>medium</td>\n",
              "      <td>Software Engineering</td>\n",
              "      <td>system developer</td>\n",
              "      <td>BPA</td>\n",
              "      <td>yes</td>\n",
              "      <td>Applications Developer</td>\n",
              "    </tr>\n",
              "    <tr>\n",
              "      <th>...</th>\n",
              "      <td>...</td>\n",
              "      <td>...</td>\n",
              "      <td>...</td>\n",
              "      <td>...</td>\n",
              "      <td>...</td>\n",
              "      <td>...</td>\n",
              "      <td>...</td>\n",
              "      <td>...</td>\n",
              "      <td>...</td>\n",
              "    </tr>\n",
              "    <tr>\n",
              "      <th>6896</th>\n",
              "      <td>6896</td>\n",
              "      <td>shell programming</td>\n",
              "      <td>hacking</td>\n",
              "      <td>poor</td>\n",
              "      <td>Software Engineering</td>\n",
              "      <td>testing</td>\n",
              "      <td>Testing and Maintainance Services</td>\n",
              "      <td>no</td>\n",
              "      <td>Web Developer</td>\n",
              "    </tr>\n",
              "    <tr>\n",
              "      <th>6897</th>\n",
              "      <td>6897</td>\n",
              "      <td>machine learning</td>\n",
              "      <td>hacking</td>\n",
              "      <td>excellent</td>\n",
              "      <td>programming</td>\n",
              "      <td>testing</td>\n",
              "      <td>Testing and Maintainance Services</td>\n",
              "      <td>no</td>\n",
              "      <td>Web Developer</td>\n",
              "    </tr>\n",
              "    <tr>\n",
              "      <th>6898</th>\n",
              "      <td>6898</td>\n",
              "      <td>distro making</td>\n",
              "      <td>data science</td>\n",
              "      <td>poor</td>\n",
              "      <td>IOT</td>\n",
              "      <td>system developer</td>\n",
              "      <td>Cloud Services</td>\n",
              "      <td>yes</td>\n",
              "      <td>Web Developer</td>\n",
              "    </tr>\n",
              "    <tr>\n",
              "      <th>6899</th>\n",
              "      <td>6899</td>\n",
              "      <td>app development</td>\n",
              "      <td>game development</td>\n",
              "      <td>excellent</td>\n",
              "      <td>data engineering</td>\n",
              "      <td>developer</td>\n",
              "      <td>SAaS services</td>\n",
              "      <td>no</td>\n",
              "      <td>Web Developer</td>\n",
              "    </tr>\n",
              "    <tr>\n",
              "      <th>6900</th>\n",
              "      <td>6900</td>\n",
              "      <td>information security</td>\n",
              "      <td>database security</td>\n",
              "      <td>medium</td>\n",
              "      <td>Computer Architecture</td>\n",
              "      <td>security</td>\n",
              "      <td>Sales and Marketing</td>\n",
              "      <td>yes</td>\n",
              "      <td>Web Developer</td>\n",
              "    </tr>\n",
              "  </tbody>\n",
              "</table>\n",
              "<p>6901 rows × 9 columns</p>\n",
              "</div>\n",
              "      <button class=\"colab-df-convert\" onclick=\"convertToInteractive('df-4610b0fd-ae84-4ab8-83a5-665cb91fcd23')\"\n",
              "              title=\"Convert this dataframe to an interactive table.\"\n",
              "              style=\"display:none;\">\n",
              "        \n",
              "  <svg xmlns=\"http://www.w3.org/2000/svg\" height=\"24px\"viewBox=\"0 0 24 24\"\n",
              "       width=\"24px\">\n",
              "    <path d=\"M0 0h24v24H0V0z\" fill=\"none\"/>\n",
              "    <path d=\"M18.56 5.44l.94 2.06.94-2.06 2.06-.94-2.06-.94-.94-2.06-.94 2.06-2.06.94zm-11 1L8.5 8.5l.94-2.06 2.06-.94-2.06-.94L8.5 2.5l-.94 2.06-2.06.94zm10 10l.94 2.06.94-2.06 2.06-.94-2.06-.94-.94-2.06-.94 2.06-2.06.94z\"/><path d=\"M17.41 7.96l-1.37-1.37c-.4-.4-.92-.59-1.43-.59-.52 0-1.04.2-1.43.59L10.3 9.45l-7.72 7.72c-.78.78-.78 2.05 0 2.83L4 21.41c.39.39.9.59 1.41.59.51 0 1.02-.2 1.41-.59l7.78-7.78 2.81-2.81c.8-.78.8-2.07 0-2.86zM5.41 20L4 18.59l7.72-7.72 1.47 1.35L5.41 20z\"/>\n",
              "  </svg>\n",
              "      </button>\n",
              "      \n",
              "  <style>\n",
              "    .colab-df-container {\n",
              "      display:flex;\n",
              "      flex-wrap:wrap;\n",
              "      gap: 12px;\n",
              "    }\n",
              "\n",
              "    .colab-df-convert {\n",
              "      background-color: #E8F0FE;\n",
              "      border: none;\n",
              "      border-radius: 50%;\n",
              "      cursor: pointer;\n",
              "      display: none;\n",
              "      fill: #1967D2;\n",
              "      height: 32px;\n",
              "      padding: 0 0 0 0;\n",
              "      width: 32px;\n",
              "    }\n",
              "\n",
              "    .colab-df-convert:hover {\n",
              "      background-color: #E2EBFA;\n",
              "      box-shadow: 0px 1px 2px rgba(60, 64, 67, 0.3), 0px 1px 3px 1px rgba(60, 64, 67, 0.15);\n",
              "      fill: #174EA6;\n",
              "    }\n",
              "\n",
              "    [theme=dark] .colab-df-convert {\n",
              "      background-color: #3B4455;\n",
              "      fill: #D2E3FC;\n",
              "    }\n",
              "\n",
              "    [theme=dark] .colab-df-convert:hover {\n",
              "      background-color: #434B5C;\n",
              "      box-shadow: 0px 1px 3px 1px rgba(0, 0, 0, 0.15);\n",
              "      filter: drop-shadow(0px 1px 2px rgba(0, 0, 0, 0.3));\n",
              "      fill: #FFFFFF;\n",
              "    }\n",
              "  </style>\n",
              "\n",
              "      <script>\n",
              "        const buttonEl =\n",
              "          document.querySelector('#df-4610b0fd-ae84-4ab8-83a5-665cb91fcd23 button.colab-df-convert');\n",
              "        buttonEl.style.display =\n",
              "          google.colab.kernel.accessAllowed ? 'block' : 'none';\n",
              "\n",
              "        async function convertToInteractive(key) {\n",
              "          const element = document.querySelector('#df-4610b0fd-ae84-4ab8-83a5-665cb91fcd23');\n",
              "          const dataTable =\n",
              "            await google.colab.kernel.invokeFunction('convertToInteractive',\n",
              "                                                     [key], {});\n",
              "          if (!dataTable) return;\n",
              "\n",
              "          const docLinkHtml = 'Like what you see? Visit the ' +\n",
              "            '<a target=\"_blank\" href=https://colab.research.google.com/notebooks/data_table.ipynb>data table notebook</a>'\n",
              "            + ' to learn more about interactive tables.';\n",
              "          element.innerHTML = '';\n",
              "          dataTable['output_type'] = 'display_data';\n",
              "          await google.colab.output.renderOutput(dataTable, element);\n",
              "          const docLink = document.createElement('div');\n",
              "          docLink.innerHTML = docLinkHtml;\n",
              "          element.appendChild(docLink);\n",
              "        }\n",
              "      </script>\n",
              "    </div>\n",
              "  </div>\n",
              "  "
            ]
          },
          "metadata": {},
          "execution_count": 3
        }
      ],
      "source": [
        "#Membaca dataset roo_data.csv\n",
        "roo_data = pd.read_csv(\"jobs.csv\")\n",
        "roo_data"
      ]
    },
    {
      "cell_type": "code",
      "execution_count": 4,
      "id": "d40f17b5",
      "metadata": {
        "scrolled": true,
        "colab": {
          "base_uri": "https://localhost:8080/"
        },
        "id": "d40f17b5",
        "outputId": "400f8ff1-f3dc-4e92-c625-3a5d3e61c523"
      },
      "outputs": [
        {
          "output_type": "stream",
          "name": "stdout",
          "text": [
            "<class 'pandas.core.frame.DataFrame'>\n",
            "RangeIndex: 6901 entries, 0 to 6900\n",
            "Data columns (total 9 columns):\n",
            " #   Column                              Non-Null Count  Dtype \n",
            "---  ------                              --------------  ----- \n",
            " 0   Unnamed: 0                          6901 non-null   int64 \n",
            " 1   certifications                      6901 non-null   object\n",
            " 2   workshops                           6901 non-null   object\n",
            " 3   memory capability score             6901 non-null   object\n",
            " 4   Interested subjects                 6901 non-null   object\n",
            " 5   interested career area              6901 non-null   object\n",
            " 6   Type of company want to settle in?  6901 non-null   object\n",
            " 7   worked in teams ever?               6901 non-null   object\n",
            " 8   Suggested Job Role                  6901 non-null   object\n",
            "dtypes: int64(1), object(8)\n",
            "memory usage: 485.4+ KB\n"
          ]
        }
      ],
      "source": [
        "roo_data.info()"
      ]
    },
    {
      "cell_type": "code",
      "execution_count": 5,
      "id": "3e5b9d51",
      "metadata": {
        "scrolled": true,
        "colab": {
          "base_uri": "https://localhost:8080/",
          "height": 607
        },
        "id": "3e5b9d51",
        "outputId": "feb61d09-26b1-4665-9f0b-32baf6bc1b3a"
      },
      "outputs": [
        {
          "output_type": "execute_result",
          "data": {
            "text/plain": [
              "            certifications          workshops memory capability score  \\\n",
              "0     information security            testing                    poor   \n",
              "1        shell programming            testing                  medium   \n",
              "2     information security            testing                    poor   \n",
              "3            r programming  database security                    poor   \n",
              "4            distro making   game development                  medium   \n",
              "...                    ...                ...                     ...   \n",
              "6896     shell programming            hacking                    poor   \n",
              "6897      machine learning            hacking               excellent   \n",
              "6898         distro making       data science                    poor   \n",
              "6899       app development   game development               excellent   \n",
              "6900  information security  database security                  medium   \n",
              "\n",
              "        Interested subjects   interested career area   \\\n",
              "0               programming                   testing   \n",
              "1                Management          system developer   \n",
              "2          data engineering  Business process analyst   \n",
              "3                  networks                   testing   \n",
              "4      Software Engineering          system developer   \n",
              "...                     ...                       ...   \n",
              "6896   Software Engineering                   testing   \n",
              "6897            programming                   testing   \n",
              "6898                    IOT          system developer   \n",
              "6899       data engineering                 developer   \n",
              "6900  Computer Architecture                  security   \n",
              "\n",
              "     Type of company want to settle in? worked in teams ever?  \\\n",
              "0                                   BPA                   yes   \n",
              "1                        Cloud Services                    no   \n",
              "2                   product development                    no   \n",
              "3     Testing and Maintainance Services                   yes   \n",
              "4                                   BPA                   yes   \n",
              "...                                 ...                   ...   \n",
              "6896  Testing and Maintainance Services                    no   \n",
              "6897  Testing and Maintainance Services                    no   \n",
              "6898                     Cloud Services                   yes   \n",
              "6899                      SAaS services                    no   \n",
              "6900                Sales and Marketing                   yes   \n",
              "\n",
              "          Suggested Job Role  \n",
              "0     Applications Developer  \n",
              "1     Applications Developer  \n",
              "2     Applications Developer  \n",
              "3     Applications Developer  \n",
              "4     Applications Developer  \n",
              "...                      ...  \n",
              "6896           Web Developer  \n",
              "6897           Web Developer  \n",
              "6898           Web Developer  \n",
              "6899           Web Developer  \n",
              "6900           Web Developer  \n",
              "\n",
              "[6901 rows x 8 columns]"
            ],
            "text/html": [
              "\n",
              "  <div id=\"df-512d7d8f-9eeb-43e1-92ec-721c2d8f650e\">\n",
              "    <div class=\"colab-df-container\">\n",
              "      <div>\n",
              "<style scoped>\n",
              "    .dataframe tbody tr th:only-of-type {\n",
              "        vertical-align: middle;\n",
              "    }\n",
              "\n",
              "    .dataframe tbody tr th {\n",
              "        vertical-align: top;\n",
              "    }\n",
              "\n",
              "    .dataframe thead th {\n",
              "        text-align: right;\n",
              "    }\n",
              "</style>\n",
              "<table border=\"1\" class=\"dataframe\">\n",
              "  <thead>\n",
              "    <tr style=\"text-align: right;\">\n",
              "      <th></th>\n",
              "      <th>certifications</th>\n",
              "      <th>workshops</th>\n",
              "      <th>memory capability score</th>\n",
              "      <th>Interested subjects</th>\n",
              "      <th>interested career area</th>\n",
              "      <th>Type of company want to settle in?</th>\n",
              "      <th>worked in teams ever?</th>\n",
              "      <th>Suggested Job Role</th>\n",
              "    </tr>\n",
              "  </thead>\n",
              "  <tbody>\n",
              "    <tr>\n",
              "      <th>0</th>\n",
              "      <td>information security</td>\n",
              "      <td>testing</td>\n",
              "      <td>poor</td>\n",
              "      <td>programming</td>\n",
              "      <td>testing</td>\n",
              "      <td>BPA</td>\n",
              "      <td>yes</td>\n",
              "      <td>Applications Developer</td>\n",
              "    </tr>\n",
              "    <tr>\n",
              "      <th>1</th>\n",
              "      <td>shell programming</td>\n",
              "      <td>testing</td>\n",
              "      <td>medium</td>\n",
              "      <td>Management</td>\n",
              "      <td>system developer</td>\n",
              "      <td>Cloud Services</td>\n",
              "      <td>no</td>\n",
              "      <td>Applications Developer</td>\n",
              "    </tr>\n",
              "    <tr>\n",
              "      <th>2</th>\n",
              "      <td>information security</td>\n",
              "      <td>testing</td>\n",
              "      <td>poor</td>\n",
              "      <td>data engineering</td>\n",
              "      <td>Business process analyst</td>\n",
              "      <td>product development</td>\n",
              "      <td>no</td>\n",
              "      <td>Applications Developer</td>\n",
              "    </tr>\n",
              "    <tr>\n",
              "      <th>3</th>\n",
              "      <td>r programming</td>\n",
              "      <td>database security</td>\n",
              "      <td>poor</td>\n",
              "      <td>networks</td>\n",
              "      <td>testing</td>\n",
              "      <td>Testing and Maintainance Services</td>\n",
              "      <td>yes</td>\n",
              "      <td>Applications Developer</td>\n",
              "    </tr>\n",
              "    <tr>\n",
              "      <th>4</th>\n",
              "      <td>distro making</td>\n",
              "      <td>game development</td>\n",
              "      <td>medium</td>\n",
              "      <td>Software Engineering</td>\n",
              "      <td>system developer</td>\n",
              "      <td>BPA</td>\n",
              "      <td>yes</td>\n",
              "      <td>Applications Developer</td>\n",
              "    </tr>\n",
              "    <tr>\n",
              "      <th>...</th>\n",
              "      <td>...</td>\n",
              "      <td>...</td>\n",
              "      <td>...</td>\n",
              "      <td>...</td>\n",
              "      <td>...</td>\n",
              "      <td>...</td>\n",
              "      <td>...</td>\n",
              "      <td>...</td>\n",
              "    </tr>\n",
              "    <tr>\n",
              "      <th>6896</th>\n",
              "      <td>shell programming</td>\n",
              "      <td>hacking</td>\n",
              "      <td>poor</td>\n",
              "      <td>Software Engineering</td>\n",
              "      <td>testing</td>\n",
              "      <td>Testing and Maintainance Services</td>\n",
              "      <td>no</td>\n",
              "      <td>Web Developer</td>\n",
              "    </tr>\n",
              "    <tr>\n",
              "      <th>6897</th>\n",
              "      <td>machine learning</td>\n",
              "      <td>hacking</td>\n",
              "      <td>excellent</td>\n",
              "      <td>programming</td>\n",
              "      <td>testing</td>\n",
              "      <td>Testing and Maintainance Services</td>\n",
              "      <td>no</td>\n",
              "      <td>Web Developer</td>\n",
              "    </tr>\n",
              "    <tr>\n",
              "      <th>6898</th>\n",
              "      <td>distro making</td>\n",
              "      <td>data science</td>\n",
              "      <td>poor</td>\n",
              "      <td>IOT</td>\n",
              "      <td>system developer</td>\n",
              "      <td>Cloud Services</td>\n",
              "      <td>yes</td>\n",
              "      <td>Web Developer</td>\n",
              "    </tr>\n",
              "    <tr>\n",
              "      <th>6899</th>\n",
              "      <td>app development</td>\n",
              "      <td>game development</td>\n",
              "      <td>excellent</td>\n",
              "      <td>data engineering</td>\n",
              "      <td>developer</td>\n",
              "      <td>SAaS services</td>\n",
              "      <td>no</td>\n",
              "      <td>Web Developer</td>\n",
              "    </tr>\n",
              "    <tr>\n",
              "      <th>6900</th>\n",
              "      <td>information security</td>\n",
              "      <td>database security</td>\n",
              "      <td>medium</td>\n",
              "      <td>Computer Architecture</td>\n",
              "      <td>security</td>\n",
              "      <td>Sales and Marketing</td>\n",
              "      <td>yes</td>\n",
              "      <td>Web Developer</td>\n",
              "    </tr>\n",
              "  </tbody>\n",
              "</table>\n",
              "<p>6901 rows × 8 columns</p>\n",
              "</div>\n",
              "      <button class=\"colab-df-convert\" onclick=\"convertToInteractive('df-512d7d8f-9eeb-43e1-92ec-721c2d8f650e')\"\n",
              "              title=\"Convert this dataframe to an interactive table.\"\n",
              "              style=\"display:none;\">\n",
              "        \n",
              "  <svg xmlns=\"http://www.w3.org/2000/svg\" height=\"24px\"viewBox=\"0 0 24 24\"\n",
              "       width=\"24px\">\n",
              "    <path d=\"M0 0h24v24H0V0z\" fill=\"none\"/>\n",
              "    <path d=\"M18.56 5.44l.94 2.06.94-2.06 2.06-.94-2.06-.94-.94-2.06-.94 2.06-2.06.94zm-11 1L8.5 8.5l.94-2.06 2.06-.94-2.06-.94L8.5 2.5l-.94 2.06-2.06.94zm10 10l.94 2.06.94-2.06 2.06-.94-2.06-.94-.94-2.06-.94 2.06-2.06.94z\"/><path d=\"M17.41 7.96l-1.37-1.37c-.4-.4-.92-.59-1.43-.59-.52 0-1.04.2-1.43.59L10.3 9.45l-7.72 7.72c-.78.78-.78 2.05 0 2.83L4 21.41c.39.39.9.59 1.41.59.51 0 1.02-.2 1.41-.59l7.78-7.78 2.81-2.81c.8-.78.8-2.07 0-2.86zM5.41 20L4 18.59l7.72-7.72 1.47 1.35L5.41 20z\"/>\n",
              "  </svg>\n",
              "      </button>\n",
              "      \n",
              "  <style>\n",
              "    .colab-df-container {\n",
              "      display:flex;\n",
              "      flex-wrap:wrap;\n",
              "      gap: 12px;\n",
              "    }\n",
              "\n",
              "    .colab-df-convert {\n",
              "      background-color: #E8F0FE;\n",
              "      border: none;\n",
              "      border-radius: 50%;\n",
              "      cursor: pointer;\n",
              "      display: none;\n",
              "      fill: #1967D2;\n",
              "      height: 32px;\n",
              "      padding: 0 0 0 0;\n",
              "      width: 32px;\n",
              "    }\n",
              "\n",
              "    .colab-df-convert:hover {\n",
              "      background-color: #E2EBFA;\n",
              "      box-shadow: 0px 1px 2px rgba(60, 64, 67, 0.3), 0px 1px 3px 1px rgba(60, 64, 67, 0.15);\n",
              "      fill: #174EA6;\n",
              "    }\n",
              "\n",
              "    [theme=dark] .colab-df-convert {\n",
              "      background-color: #3B4455;\n",
              "      fill: #D2E3FC;\n",
              "    }\n",
              "\n",
              "    [theme=dark] .colab-df-convert:hover {\n",
              "      background-color: #434B5C;\n",
              "      box-shadow: 0px 1px 3px 1px rgba(0, 0, 0, 0.15);\n",
              "      filter: drop-shadow(0px 1px 2px rgba(0, 0, 0, 0.3));\n",
              "      fill: #FFFFFF;\n",
              "    }\n",
              "  </style>\n",
              "\n",
              "      <script>\n",
              "        const buttonEl =\n",
              "          document.querySelector('#df-512d7d8f-9eeb-43e1-92ec-721c2d8f650e button.colab-df-convert');\n",
              "        buttonEl.style.display =\n",
              "          google.colab.kernel.accessAllowed ? 'block' : 'none';\n",
              "\n",
              "        async function convertToInteractive(key) {\n",
              "          const element = document.querySelector('#df-512d7d8f-9eeb-43e1-92ec-721c2d8f650e');\n",
              "          const dataTable =\n",
              "            await google.colab.kernel.invokeFunction('convertToInteractive',\n",
              "                                                     [key], {});\n",
              "          if (!dataTable) return;\n",
              "\n",
              "          const docLinkHtml = 'Like what you see? Visit the ' +\n",
              "            '<a target=\"_blank\" href=https://colab.research.google.com/notebooks/data_table.ipynb>data table notebook</a>'\n",
              "            + ' to learn more about interactive tables.';\n",
              "          element.innerHTML = '';\n",
              "          dataTable['output_type'] = 'display_data';\n",
              "          await google.colab.output.renderOutput(dataTable, element);\n",
              "          const docLink = document.createElement('div');\n",
              "          docLink.innerHTML = docLinkHtml;\n",
              "          element.appendChild(docLink);\n",
              "        }\n",
              "      </script>\n",
              "    </div>\n",
              "  </div>\n",
              "  "
            ]
          },
          "metadata": {},
          "execution_count": 5
        }
      ],
      "source": [
        "#Hapus kolom yang tidak berguna\n",
        "data = roo_data.drop(columns=['Unnamed: 0'])\n",
        "data"
      ]
    },
    {
      "cell_type": "markdown",
      "id": "4cee1911",
      "metadata": {
        "id": "4cee1911"
      },
      "source": [
        "# 4. Data Pre-processing"
      ]
    },
    {
      "cell_type": "code",
      "execution_count": 6,
      "id": "2e1dd3e3",
      "metadata": {
        "colab": {
          "base_uri": "https://localhost:8080/"
        },
        "id": "2e1dd3e3",
        "outputId": "7f2dded0-408b-45e9-f5d2-2b5eb6c853f8"
      },
      "outputs": [
        {
          "output_type": "execute_result",
          "data": {
            "text/plain": [
              "(6901, 8)"
            ]
          },
          "metadata": {},
          "execution_count": 6
        }
      ],
      "source": [
        "#Checking Dimensions\n",
        "data.shape"
      ]
    },
    {
      "cell_type": "code",
      "execution_count": 7,
      "id": "08b3ed8b",
      "metadata": {
        "colab": {
          "base_uri": "https://localhost:8080/"
        },
        "id": "08b3ed8b",
        "outputId": "e700c4c0-a500-4433-d035-1750e85dbd05"
      },
      "outputs": [
        {
          "output_type": "execute_result",
          "data": {
            "text/plain": [
              "certifications                        0\n",
              "workshops                             0\n",
              "memory capability score               0\n",
              "Interested subjects                   0\n",
              "interested career area                0\n",
              "Type of company want to settle in?    0\n",
              "worked in teams ever?                 0\n",
              "Suggested Job Role                    0\n",
              "dtype: int64"
            ]
          },
          "metadata": {},
          "execution_count": 7
        }
      ],
      "source": [
        "#Checking Missing Value\n",
        "data.isnull().sum()"
      ]
    },
    {
      "cell_type": "code",
      "execution_count": 8,
      "id": "3b5e1c91",
      "metadata": {
        "colab": {
          "base_uri": "https://localhost:8080/",
          "height": 254
        },
        "id": "3b5e1c91",
        "outputId": "9e40fee5-389f-4e46-f7f8-e7eda18c8fcd"
      },
      "outputs": [
        {
          "output_type": "execute_result",
          "data": {
            "text/plain": [
              "       certifications          workshops memory capability score  \\\n",
              "count            6901               6901                    6901   \n",
              "unique              9                  8                       3   \n",
              "top     r programming  database security                  medium   \n",
              "freq              803                897                    2317   \n",
              "\n",
              "         Interested subjects interested career area   \\\n",
              "count                   6901                    6901   \n",
              "unique                    10                       6   \n",
              "top     Software Engineering        system developer   \n",
              "freq                     731                    1178   \n",
              "\n",
              "       Type of company want to settle in? worked in teams ever?  \\\n",
              "count                                6901                  6901   \n",
              "unique                                 10                     2   \n",
              "top                         Service Based                    no   \n",
              "freq                                  725                  3470   \n",
              "\n",
              "               Suggested Job Role  \n",
              "count                        6901  \n",
              "unique                         12  \n",
              "top     Network Security Engineer  \n",
              "freq                          630  "
            ],
            "text/html": [
              "\n",
              "  <div id=\"df-c8a7b05d-ba51-4048-85f1-8882b4c92d96\">\n",
              "    <div class=\"colab-df-container\">\n",
              "      <div>\n",
              "<style scoped>\n",
              "    .dataframe tbody tr th:only-of-type {\n",
              "        vertical-align: middle;\n",
              "    }\n",
              "\n",
              "    .dataframe tbody tr th {\n",
              "        vertical-align: top;\n",
              "    }\n",
              "\n",
              "    .dataframe thead th {\n",
              "        text-align: right;\n",
              "    }\n",
              "</style>\n",
              "<table border=\"1\" class=\"dataframe\">\n",
              "  <thead>\n",
              "    <tr style=\"text-align: right;\">\n",
              "      <th></th>\n",
              "      <th>certifications</th>\n",
              "      <th>workshops</th>\n",
              "      <th>memory capability score</th>\n",
              "      <th>Interested subjects</th>\n",
              "      <th>interested career area</th>\n",
              "      <th>Type of company want to settle in?</th>\n",
              "      <th>worked in teams ever?</th>\n",
              "      <th>Suggested Job Role</th>\n",
              "    </tr>\n",
              "  </thead>\n",
              "  <tbody>\n",
              "    <tr>\n",
              "      <th>count</th>\n",
              "      <td>6901</td>\n",
              "      <td>6901</td>\n",
              "      <td>6901</td>\n",
              "      <td>6901</td>\n",
              "      <td>6901</td>\n",
              "      <td>6901</td>\n",
              "      <td>6901</td>\n",
              "      <td>6901</td>\n",
              "    </tr>\n",
              "    <tr>\n",
              "      <th>unique</th>\n",
              "      <td>9</td>\n",
              "      <td>8</td>\n",
              "      <td>3</td>\n",
              "      <td>10</td>\n",
              "      <td>6</td>\n",
              "      <td>10</td>\n",
              "      <td>2</td>\n",
              "      <td>12</td>\n",
              "    </tr>\n",
              "    <tr>\n",
              "      <th>top</th>\n",
              "      <td>r programming</td>\n",
              "      <td>database security</td>\n",
              "      <td>medium</td>\n",
              "      <td>Software Engineering</td>\n",
              "      <td>system developer</td>\n",
              "      <td>Service Based</td>\n",
              "      <td>no</td>\n",
              "      <td>Network Security Engineer</td>\n",
              "    </tr>\n",
              "    <tr>\n",
              "      <th>freq</th>\n",
              "      <td>803</td>\n",
              "      <td>897</td>\n",
              "      <td>2317</td>\n",
              "      <td>731</td>\n",
              "      <td>1178</td>\n",
              "      <td>725</td>\n",
              "      <td>3470</td>\n",
              "      <td>630</td>\n",
              "    </tr>\n",
              "  </tbody>\n",
              "</table>\n",
              "</div>\n",
              "      <button class=\"colab-df-convert\" onclick=\"convertToInteractive('df-c8a7b05d-ba51-4048-85f1-8882b4c92d96')\"\n",
              "              title=\"Convert this dataframe to an interactive table.\"\n",
              "              style=\"display:none;\">\n",
              "        \n",
              "  <svg xmlns=\"http://www.w3.org/2000/svg\" height=\"24px\"viewBox=\"0 0 24 24\"\n",
              "       width=\"24px\">\n",
              "    <path d=\"M0 0h24v24H0V0z\" fill=\"none\"/>\n",
              "    <path d=\"M18.56 5.44l.94 2.06.94-2.06 2.06-.94-2.06-.94-.94-2.06-.94 2.06-2.06.94zm-11 1L8.5 8.5l.94-2.06 2.06-.94-2.06-.94L8.5 2.5l-.94 2.06-2.06.94zm10 10l.94 2.06.94-2.06 2.06-.94-2.06-.94-.94-2.06-.94 2.06-2.06.94z\"/><path d=\"M17.41 7.96l-1.37-1.37c-.4-.4-.92-.59-1.43-.59-.52 0-1.04.2-1.43.59L10.3 9.45l-7.72 7.72c-.78.78-.78 2.05 0 2.83L4 21.41c.39.39.9.59 1.41.59.51 0 1.02-.2 1.41-.59l7.78-7.78 2.81-2.81c.8-.78.8-2.07 0-2.86zM5.41 20L4 18.59l7.72-7.72 1.47 1.35L5.41 20z\"/>\n",
              "  </svg>\n",
              "      </button>\n",
              "      \n",
              "  <style>\n",
              "    .colab-df-container {\n",
              "      display:flex;\n",
              "      flex-wrap:wrap;\n",
              "      gap: 12px;\n",
              "    }\n",
              "\n",
              "    .colab-df-convert {\n",
              "      background-color: #E8F0FE;\n",
              "      border: none;\n",
              "      border-radius: 50%;\n",
              "      cursor: pointer;\n",
              "      display: none;\n",
              "      fill: #1967D2;\n",
              "      height: 32px;\n",
              "      padding: 0 0 0 0;\n",
              "      width: 32px;\n",
              "    }\n",
              "\n",
              "    .colab-df-convert:hover {\n",
              "      background-color: #E2EBFA;\n",
              "      box-shadow: 0px 1px 2px rgba(60, 64, 67, 0.3), 0px 1px 3px 1px rgba(60, 64, 67, 0.15);\n",
              "      fill: #174EA6;\n",
              "    }\n",
              "\n",
              "    [theme=dark] .colab-df-convert {\n",
              "      background-color: #3B4455;\n",
              "      fill: #D2E3FC;\n",
              "    }\n",
              "\n",
              "    [theme=dark] .colab-df-convert:hover {\n",
              "      background-color: #434B5C;\n",
              "      box-shadow: 0px 1px 3px 1px rgba(0, 0, 0, 0.15);\n",
              "      filter: drop-shadow(0px 1px 2px rgba(0, 0, 0, 0.3));\n",
              "      fill: #FFFFFF;\n",
              "    }\n",
              "  </style>\n",
              "\n",
              "      <script>\n",
              "        const buttonEl =\n",
              "          document.querySelector('#df-c8a7b05d-ba51-4048-85f1-8882b4c92d96 button.colab-df-convert');\n",
              "        buttonEl.style.display =\n",
              "          google.colab.kernel.accessAllowed ? 'block' : 'none';\n",
              "\n",
              "        async function convertToInteractive(key) {\n",
              "          const element = document.querySelector('#df-c8a7b05d-ba51-4048-85f1-8882b4c92d96');\n",
              "          const dataTable =\n",
              "            await google.colab.kernel.invokeFunction('convertToInteractive',\n",
              "                                                     [key], {});\n",
              "          if (!dataTable) return;\n",
              "\n",
              "          const docLinkHtml = 'Like what you see? Visit the ' +\n",
              "            '<a target=\"_blank\" href=https://colab.research.google.com/notebooks/data_table.ipynb>data table notebook</a>'\n",
              "            + ' to learn more about interactive tables.';\n",
              "          element.innerHTML = '';\n",
              "          dataTable['output_type'] = 'display_data';\n",
              "          await google.colab.output.renderOutput(dataTable, element);\n",
              "          const docLink = document.createElement('div');\n",
              "          docLink.innerHTML = docLinkHtml;\n",
              "          element.appendChild(docLink);\n",
              "        }\n",
              "      </script>\n",
              "    </div>\n",
              "  </div>\n",
              "  "
            ]
          },
          "metadata": {},
          "execution_count": 8
        }
      ],
      "source": [
        "#Checking Descriptive Statistic\n",
        "data.describe()"
      ]
    },
    {
      "cell_type": "markdown",
      "id": "5d04f601",
      "metadata": {
        "id": "5d04f601"
      },
      "source": [
        "# 5. Exploratory Data Analysis (EDA)"
      ]
    },
    {
      "cell_type": "code",
      "execution_count": 9,
      "id": "47350a21",
      "metadata": {
        "scrolled": true,
        "colab": {
          "base_uri": "https://localhost:8080/"
        },
        "id": "47350a21",
        "outputId": "f75b6f58-dd35-4afd-fa2a-39c12f832b04"
      },
      "outputs": [
        {
          "output_type": "execute_result",
          "data": {
            "text/plain": [
              "Network Security Engineer                    630\n",
              "Software Engineer                            590\n",
              "UX Designer                                  589\n",
              "Software Developer                           587\n",
              "Database Developer                           581\n",
              "Software Quality Assurance (QA) / Testing    571\n",
              "Web Developer                                570\n",
              "CRM Technical Developer                      567\n",
              "Technical Support                            565\n",
              "Systems Security Administrator               562\n",
              "Applications Developer                       551\n",
              "Mobile Applications Developer                538\n",
              "Name: Suggested Job Role, dtype: int64"
            ]
          },
          "metadata": {},
          "execution_count": 9
        }
      ],
      "source": [
        "#Mengetahui jumlah data dalam kolom Suggested Job Role\n",
        "data['Suggested Job Role'].value_counts()"
      ]
    },
    {
      "cell_type": "code",
      "execution_count": 10,
      "id": "0112984d",
      "metadata": {
        "scrolled": true,
        "colab": {
          "base_uri": "https://localhost:8080/",
          "height": 617
        },
        "id": "0112984d",
        "outputId": "be54278a-5072-4a6e-d801-1b24a19b521d"
      },
      "outputs": [
        {
          "output_type": "stream",
          "name": "stdout",
          "text": [
            "******************************\n",
            "\u001b[1m.: Suggested Job Role :.\u001b[0m\n",
            "******************************\n"
          ]
        },
        {
          "output_type": "execute_result",
          "data": {
            "text/plain": [
              "Network Security Engineer                    630\n",
              "Software Engineer                            590\n",
              "UX Designer                                  589\n",
              "Software Developer                           587\n",
              "Database Developer                           581\n",
              "Software Quality Assurance (QA) / Testing    571\n",
              "Web Developer                                570\n",
              "CRM Technical Developer                      567\n",
              "Technical Support                            565\n",
              "Systems Security Administrator               562\n",
              "Applications Developer                       551\n",
              "Mobile Applications Developer                538\n",
              "Name: Suggested Job Role, dtype: int64"
            ]
          },
          "metadata": {},
          "execution_count": 10
        },
        {
          "output_type": "display_data",
          "data": {
            "text/plain": [
              "<Figure size 5760x576 with 1 Axes>"
            ],
            "image/png": "[encoded data removed]"
          },
          "metadata": {
            "needs_background": "light"
          }
        }
      ],
      "source": [
        "#Visualization Suggested Job Role\n",
        "colors=pink_grad[0:4]\n",
        "labels=['Network Security Engineer', 'Software Engineer', 'UX Designer', 'Software Developer', 'Database Developer', 'Software Quality Assurance (QA) / Testing', 'Web Developer',\n",
        "        'CRM Technical Developer', 'Technical Support', 'Systems Security Administrator', 'Applications Developer', 'Mobile Applications Developer']\n",
        "order=data['Suggested Job Role'].value_counts().index\n",
        "\n",
        "# --- Size for Both Figures ---\n",
        "plt.figure(figsize=(80, 8))\n",
        "plt.suptitle('Suggested Job Role', fontweight='normal', fontsize=16, \n",
        "             fontfamily='sans-serif', color=black_grad[0])\n",
        "\n",
        "# --- Box Plot ---\n",
        "countplt = plt.subplot(1, 2, 2)\n",
        "plt.title('Bar Chart', fontweight='bold', fontsize=14, fontfamily='sans-serif', \n",
        "          color=black_grad[0])\n",
        "ax = sns.countplot(x='Suggested Job Role', data=data, palette=colors, order=order,\n",
        "                   edgecolor=black_grad[2], alpha=0.85)\n",
        "for rect in ax.patches:\n",
        "    ax.text (rect.get_x()+rect.get_width()/2, \n",
        "             rect.get_height()+4.25,rect.get_height(), \n",
        "             horizontalalignment='center', fontsize=10,\n",
        "             bbox=dict(facecolor='none', edgecolor=black_grad[0], linewidth=0.25,\n",
        "                       boxstyle='round'))\n",
        "\n",
        "plt.xlabel('Suggested Job Role', fontweight='bold', fontsize=11, fontfamily='sans-serif', \n",
        "           color=black_grad[1])\n",
        "plt.ylabel('Total', fontweight='bold', fontsize=11, fontfamily='sans-serif', \n",
        "           color=black_grad[1])\n",
        "plt.xticks([0, 1, 2, 3, 4, 5, 6, 7, 8, 9, 10, 11], labels)\n",
        "plt.grid(axis='y', alpha=0.4)\n",
        "countplt\n",
        "\n",
        "# --- Count Categorical Labels w/out Dropping Null Walues ---\n",
        "print('*' * 30)\n",
        "print('\\033[1m'+'.: Suggested Job Role :.'+'\\033[0m')\n",
        "print('*' * 30)\n",
        "data['Suggested Job Role'].value_counts(dropna=False)"
      ]
    },
    {
      "cell_type": "markdown",
      "id": "5bfb6ac6",
      "metadata": {
        "id": "5bfb6ac6"
      },
      "source": [
        "# 6. Feature Engineering"
      ]
    },
    {
      "cell_type": "code",
      "execution_count": 11,
      "id": "51e483f1",
      "metadata": {
        "colab": {
          "base_uri": "https://localhost:8080/"
        },
        "id": "51e483f1",
        "outputId": "ba5dcd4f-b316-4c69-c553-5976a7668ce7"
      },
      "outputs": [
        {
          "output_type": "stream",
          "name": "stdout",
          "text": [
            "\n",
            "\n",
            "List of Categorical features: \n",
            " ['certifications', 'workshops', 'memory capability score', 'Interested subjects', 'interested career area ', 'Type of company want to settle in?', 'worked in teams ever?', 'Suggested Job Role']\n"
          ]
        }
      ],
      "source": [
        "print(\"\\n\\nList of Categorical features: \\n\" , data.select_dtypes(include=['object']).columns.tolist())"
      ]
    },
    {
      "cell_type": "markdown",
      "id": "905c2add",
      "metadata": {
        "id": "905c2add"
      },
      "source": [
        "## Numbering Encoding for Categorical"
      ]
    },
    {
      "cell_type": "code",
      "execution_count": 12,
      "id": "fb7116fb",
      "metadata": {
        "scrolled": false,
        "colab": {
          "base_uri": "https://localhost:8080/",
          "height": 206
        },
        "id": "fb7116fb",
        "outputId": "2a978e35-f0e0-46ae-cd63-dd6c2b86b5b2"
      },
      "outputs": [
        {
          "output_type": "execute_result",
          "data": {
            "text/plain": [
              "   certifications  workshops  memory capability score  Interested subjects  \\\n",
              "0               4          6                        2                    9   \n",
              "1               8          6                        1                    2   \n",
              "2               4          6                        2                    5   \n",
              "3               7          2                        2                    7   \n",
              "4               1          3                        1                    3   \n",
              "\n",
              "   interested career area   Type of company want to settle in?  \\\n",
              "0                        5                                   0   \n",
              "1                        4                                   1   \n",
              "2                        0                                   9   \n",
              "3                        5                                   7   \n",
              "4                        4                                   0   \n",
              "\n",
              "   worked in teams ever?      Suggested Job Role  \n",
              "0                      1  Applications Developer  \n",
              "1                      0  Applications Developer  \n",
              "2                      0  Applications Developer  \n",
              "3                      1  Applications Developer  \n",
              "4                      1  Applications Developer  "
            ],
            "text/html": [
              "\n",
              "  <div id=\"df-b706ffb1-48aa-49f1-9941-e5408d645873\">\n",
              "    <div class=\"colab-df-container\">\n",
              "      <div>\n",
              "<style scoped>\n",
              "    .dataframe tbody tr th:only-of-type {\n",
              "        vertical-align: middle;\n",
              "    }\n",
              "\n",
              "    .dataframe tbody tr th {\n",
              "        vertical-align: top;\n",
              "    }\n",
              "\n",
              "    .dataframe thead th {\n",
              "        text-align: right;\n",
              "    }\n",
              "</style>\n",
              "<table border=\"1\" class=\"dataframe\">\n",
              "  <thead>\n",
              "    <tr style=\"text-align: right;\">\n",
              "      <th></th>\n",
              "      <th>certifications</th>\n",
              "      <th>workshops</th>\n",
              "      <th>memory capability score</th>\n",
              "      <th>Interested subjects</th>\n",
              "      <th>interested career area</th>\n",
              "      <th>Type of company want to settle in?</th>\n",
              "      <th>worked in teams ever?</th>\n",
              "      <th>Suggested Job Role</th>\n",
              "    </tr>\n",
              "  </thead>\n",
              "  <tbody>\n",
              "    <tr>\n",
              "      <th>0</th>\n",
              "      <td>4</td>\n",
              "      <td>6</td>\n",
              "      <td>2</td>\n",
              "      <td>9</td>\n",
              "      <td>5</td>\n",
              "      <td>0</td>\n",
              "      <td>1</td>\n",
              "      <td>Applications Developer</td>\n",
              "    </tr>\n",
              "    <tr>\n",
              "      <th>1</th>\n",
              "      <td>8</td>\n",
              "      <td>6</td>\n",
              "      <td>1</td>\n",
              "      <td>2</td>\n",
              "      <td>4</td>\n",
              "      <td>1</td>\n",
              "      <td>0</td>\n",
              "      <td>Applications Developer</td>\n",
              "    </tr>\n",
              "    <tr>\n",
              "      <th>2</th>\n",
              "      <td>4</td>\n",
              "      <td>6</td>\n",
              "      <td>2</td>\n",
              "      <td>5</td>\n",
              "      <td>0</td>\n",
              "      <td>9</td>\n",
              "      <td>0</td>\n",
              "      <td>Applications Developer</td>\n",
              "    </tr>\n",
              "    <tr>\n",
              "      <th>3</th>\n",
              "      <td>7</td>\n",
              "      <td>2</td>\n",
              "      <td>2</td>\n",
              "      <td>7</td>\n",
              "      <td>5</td>\n",
              "      <td>7</td>\n",
              "      <td>1</td>\n",
              "      <td>Applications Developer</td>\n",
              "    </tr>\n",
              "    <tr>\n",
              "      <th>4</th>\n",
              "      <td>1</td>\n",
              "      <td>3</td>\n",
              "      <td>1</td>\n",
              "      <td>3</td>\n",
              "      <td>4</td>\n",
              "      <td>0</td>\n",
              "      <td>1</td>\n",
              "      <td>Applications Developer</td>\n",
              "    </tr>\n",
              "  </tbody>\n",
              "</table>\n",
              "</div>\n",
              "      <button class=\"colab-df-convert\" onclick=\"convertToInteractive('df-b706ffb1-48aa-49f1-9941-e5408d645873')\"\n",
              "              title=\"Convert this dataframe to an interactive table.\"\n",
              "              style=\"display:none;\">\n",
              "        \n",
              "  <svg xmlns=\"http://www.w3.org/2000/svg\" height=\"24px\"viewBox=\"0 0 24 24\"\n",
              "       width=\"24px\">\n",
              "    <path d=\"M0 0h24v24H0V0z\" fill=\"none\"/>\n",
              "    <path d=\"M18.56 5.44l.94 2.06.94-2.06 2.06-.94-2.06-.94-.94-2.06-.94 2.06-2.06.94zm-11 1L8.5 8.5l.94-2.06 2.06-.94-2.06-.94L8.5 2.5l-.94 2.06-2.06.94zm10 10l.94 2.06.94-2.06 2.06-.94-2.06-.94-.94-2.06-.94 2.06-2.06.94z\"/><path d=\"M17.41 7.96l-1.37-1.37c-.4-.4-.92-.59-1.43-.59-.52 0-1.04.2-1.43.59L10.3 9.45l-7.72 7.72c-.78.78-.78 2.05 0 2.83L4 21.41c.39.39.9.59 1.41.59.51 0 1.02-.2 1.41-.59l7.78-7.78 2.81-2.81c.8-.78.8-2.07 0-2.86zM5.41 20L4 18.59l7.72-7.72 1.47 1.35L5.41 20z\"/>\n",
              "  </svg>\n",
              "      </button>\n",
              "      \n",
              "  <style>\n",
              "    .colab-df-container {\n",
              "      display:flex;\n",
              "      flex-wrap:wrap;\n",
              "      gap: 12px;\n",
              "    }\n",
              "\n",
              "    .colab-df-convert {\n",
              "      background-color: #E8F0FE;\n",
              "      border: none;\n",
              "      border-radius: 50%;\n",
              "      cursor: pointer;\n",
              "      display: none;\n",
              "      fill: #1967D2;\n",
              "      height: 32px;\n",
              "      padding: 0 0 0 0;\n",
              "      width: 32px;\n",
              "    }\n",
              "\n",
              "    .colab-df-convert:hover {\n",
              "      background-color: #E2EBFA;\n",
              "      box-shadow: 0px 1px 2px rgba(60, 64, 67, 0.3), 0px 1px 3px 1px rgba(60, 64, 67, 0.15);\n",
              "      fill: #174EA6;\n",
              "    }\n",
              "\n",
              "    [theme=dark] .colab-df-convert {\n",
              "      background-color: #3B4455;\n",
              "      fill: #D2E3FC;\n",
              "    }\n",
              "\n",
              "    [theme=dark] .colab-df-convert:hover {\n",
              "      background-color: #434B5C;\n",
              "      box-shadow: 0px 1px 3px 1px rgba(0, 0, 0, 0.15);\n",
              "      filter: drop-shadow(0px 1px 2px rgba(0, 0, 0, 0.3));\n",
              "      fill: #FFFFFF;\n",
              "    }\n",
              "  </style>\n",
              "\n",
              "      <script>\n",
              "        const buttonEl =\n",
              "          document.querySelector('#df-b706ffb1-48aa-49f1-9941-e5408d645873 button.colab-df-convert');\n",
              "        buttonEl.style.display =\n",
              "          google.colab.kernel.accessAllowed ? 'block' : 'none';\n",
              "\n",
              "        async function convertToInteractive(key) {\n",
              "          const element = document.querySelector('#df-b706ffb1-48aa-49f1-9941-e5408d645873');\n",
              "          const dataTable =\n",
              "            await google.colab.kernel.invokeFunction('convertToInteractive',\n",
              "                                                     [key], {});\n",
              "          if (!dataTable) return;\n",
              "\n",
              "          const docLinkHtml = 'Like what you see? Visit the ' +\n",
              "            '<a target=\"_blank\" href=https://colab.research.google.com/notebooks/data_table.ipynb>data table notebook</a>'\n",
              "            + ' to learn more about interactive tables.';\n",
              "          element.innerHTML = '';\n",
              "          dataTable['output_type'] = 'display_data';\n",
              "          await google.colab.output.renderOutput(dataTable, element);\n",
              "          const docLink = document.createElement('div');\n",
              "          docLink.innerHTML = docLinkHtml;\n",
              "          element.appendChild(docLink);\n",
              "        }\n",
              "      </script>\n",
              "    </div>\n",
              "  </div>\n",
              "  "
            ]
          },
          "metadata": {},
          "execution_count": 12
        }
      ],
      "source": [
        "#Mengelompokkan variabel dataset yang berupa kategori\n",
        "data_cat = data[['certifications','workshops','memory capability score','Interested subjects','interested career area ','Type of company want to settle in?','worked in teams ever?']]\n",
        "for i in data_cat:\n",
        "    data[i] = data[i].astype('category')\n",
        "    data[i] = data[i].cat.codes\n",
        "\n",
        "data.head()"
      ]
    },
    {
      "cell_type": "markdown",
      "id": "10c35a27",
      "metadata": {
        "id": "10c35a27"
      },
      "source": [
        "# 7. Modelling"
      ]
    },
    {
      "cell_type": "markdown",
      "id": "bf31c572",
      "metadata": {
        "id": "bf31c572"
      },
      "source": [
        "## Split Data"
      ]
    },
    {
      "cell_type": "code",
      "execution_count": 13,
      "id": "d331da11",
      "metadata": {
        "id": "d331da11"
      },
      "outputs": [],
      "source": [
        "X = data.drop('Suggested Job Role',axis=1)\n",
        "y = data['Suggested Job Role']"
      ]
    },
    {
      "cell_type": "code",
      "execution_count": 14,
      "id": "66a7b168",
      "metadata": {
        "scrolled": true,
        "colab": {
          "base_uri": "https://localhost:8080/",
          "height": 206
        },
        "id": "66a7b168",
        "outputId": "355805eb-0836-4c61-a338-96d943ec5ff0"
      },
      "outputs": [
        {
          "output_type": "execute_result",
          "data": {
            "text/plain": [
              "   certifications  workshops  memory capability score  Interested subjects  \\\n",
              "0               4          6                        2                    9   \n",
              "1               8          6                        1                    2   \n",
              "2               4          6                        2                    5   \n",
              "3               7          2                        2                    7   \n",
              "4               1          3                        1                    3   \n",
              "\n",
              "   interested career area   Type of company want to settle in?  \\\n",
              "0                        5                                   0   \n",
              "1                        4                                   1   \n",
              "2                        0                                   9   \n",
              "3                        5                                   7   \n",
              "4                        4                                   0   \n",
              "\n",
              "   worked in teams ever?  \n",
              "0                      1  \n",
              "1                      0  \n",
              "2                      0  \n",
              "3                      1  \n",
              "4                      1  "
            ],
            "text/html": [
              "\n",
              "  <div id=\"df-b6c0f473-4a7e-4b45-8ad4-062887cd0788\">\n",
              "    <div class=\"colab-df-container\">\n",
              "      <div>\n",
              "<style scoped>\n",
              "    .dataframe tbody tr th:only-of-type {\n",
              "        vertical-align: middle;\n",
              "    }\n",
              "\n",
              "    .dataframe tbody tr th {\n",
              "        vertical-align: top;\n",
              "    }\n",
              "\n",
              "    .dataframe thead th {\n",
              "        text-align: right;\n",
              "    }\n",
              "</style>\n",
              "<table border=\"1\" class=\"dataframe\">\n",
              "  <thead>\n",
              "    <tr style=\"text-align: right;\">\n",
              "      <th></th>\n",
              "      <th>certifications</th>\n",
              "      <th>workshops</th>\n",
              "      <th>memory capability score</th>\n",
              "      <th>Interested subjects</th>\n",
              "      <th>interested career area</th>\n",
              "      <th>Type of company want to settle in?</th>\n",
              "      <th>worked in teams ever?</th>\n",
              "    </tr>\n",
              "  </thead>\n",
              "  <tbody>\n",
              "    <tr>\n",
              "      <th>0</th>\n",
              "      <td>4</td>\n",
              "      <td>6</td>\n",
              "      <td>2</td>\n",
              "      <td>9</td>\n",
              "      <td>5</td>\n",
              "      <td>0</td>\n",
              "      <td>1</td>\n",
              "    </tr>\n",
              "    <tr>\n",
              "      <th>1</th>\n",
              "      <td>8</td>\n",
              "      <td>6</td>\n",
              "      <td>1</td>\n",
              "      <td>2</td>\n",
              "      <td>4</td>\n",
              "      <td>1</td>\n",
              "      <td>0</td>\n",
              "    </tr>\n",
              "    <tr>\n",
              "      <th>2</th>\n",
              "      <td>4</td>\n",
              "      <td>6</td>\n",
              "      <td>2</td>\n",
              "      <td>5</td>\n",
              "      <td>0</td>\n",
              "      <td>9</td>\n",
              "      <td>0</td>\n",
              "    </tr>\n",
              "    <tr>\n",
              "      <th>3</th>\n",
              "      <td>7</td>\n",
              "      <td>2</td>\n",
              "      <td>2</td>\n",
              "      <td>7</td>\n",
              "      <td>5</td>\n",
              "      <td>7</td>\n",
              "      <td>1</td>\n",
              "    </tr>\n",
              "    <tr>\n",
              "      <th>4</th>\n",
              "      <td>1</td>\n",
              "      <td>3</td>\n",
              "      <td>1</td>\n",
              "      <td>3</td>\n",
              "      <td>4</td>\n",
              "      <td>0</td>\n",
              "      <td>1</td>\n",
              "    </tr>\n",
              "  </tbody>\n",
              "</table>\n",
              "</div>\n",
              "      <button class=\"colab-df-convert\" onclick=\"convertToInteractive('df-b6c0f473-4a7e-4b45-8ad4-062887cd0788')\"\n",
              "              title=\"Convert this dataframe to an interactive table.\"\n",
              "              style=\"display:none;\">\n",
              "        \n",
              "  <svg xmlns=\"http://www.w3.org/2000/svg\" height=\"24px\"viewBox=\"0 0 24 24\"\n",
              "       width=\"24px\">\n",
              "    <path d=\"M0 0h24v24H0V0z\" fill=\"none\"/>\n",
              "    <path d=\"M18.56 5.44l.94 2.06.94-2.06 2.06-.94-2.06-.94-.94-2.06-.94 2.06-2.06.94zm-11 1L8.5 8.5l.94-2.06 2.06-.94-2.06-.94L8.5 2.5l-.94 2.06-2.06.94zm10 10l.94 2.06.94-2.06 2.06-.94-2.06-.94-.94-2.06-.94 2.06-2.06.94z\"/><path d=\"M17.41 7.96l-1.37-1.37c-.4-.4-.92-.59-1.43-.59-.52 0-1.04.2-1.43.59L10.3 9.45l-7.72 7.72c-.78.78-.78 2.05 0 2.83L4 21.41c.39.39.9.59 1.41.59.51 0 1.02-.2 1.41-.59l7.78-7.78 2.81-2.81c.8-.78.8-2.07 0-2.86zM5.41 20L4 18.59l7.72-7.72 1.47 1.35L5.41 20z\"/>\n",
              "  </svg>\n",
              "      </button>\n",
              "      \n",
              "  <style>\n",
              "    .colab-df-container {\n",
              "      display:flex;\n",
              "      flex-wrap:wrap;\n",
              "      gap: 12px;\n",
              "    }\n",
              "\n",
              "    .colab-df-convert {\n",
              "      background-color: #E8F0FE;\n",
              "      border: none;\n",
              "      border-radius: 50%;\n",
              "      cursor: pointer;\n",
              "      display: none;\n",
              "      fill: #1967D2;\n",
              "      height: 32px;\n",
              "      padding: 0 0 0 0;\n",
              "      width: 32px;\n",
              "    }\n",
              "\n",
              "    .colab-df-convert:hover {\n",
              "      background-color: #E2EBFA;\n",
              "      box-shadow: 0px 1px 2px rgba(60, 64, 67, 0.3), 0px 1px 3px 1px rgba(60, 64, 67, 0.15);\n",
              "      fill: #174EA6;\n",
              "    }\n",
              "\n",
              "    [theme=dark] .colab-df-convert {\n",
              "      background-color: #3B4455;\n",
              "      fill: #D2E3FC;\n",
              "    }\n",
              "\n",
              "    [theme=dark] .colab-df-convert:hover {\n",
              "      background-color: #434B5C;\n",
              "      box-shadow: 0px 1px 3px 1px rgba(0, 0, 0, 0.15);\n",
              "      filter: drop-shadow(0px 1px 2px rgba(0, 0, 0, 0.3));\n",
              "      fill: #FFFFFF;\n",
              "    }\n",
              "  </style>\n",
              "\n",
              "      <script>\n",
              "        const buttonEl =\n",
              "          document.querySelector('#df-b6c0f473-4a7e-4b45-8ad4-062887cd0788 button.colab-df-convert');\n",
              "        buttonEl.style.display =\n",
              "          google.colab.kernel.accessAllowed ? 'block' : 'none';\n",
              "\n",
              "        async function convertToInteractive(key) {\n",
              "          const element = document.querySelector('#df-b6c0f473-4a7e-4b45-8ad4-062887cd0788');\n",
              "          const dataTable =\n",
              "            await google.colab.kernel.invokeFunction('convertToInteractive',\n",
              "                                                     [key], {});\n",
              "          if (!dataTable) return;\n",
              "\n",
              "          const docLinkHtml = 'Like what you see? Visit the ' +\n",
              "            '<a target=\"_blank\" href=https://colab.research.google.com/notebooks/data_table.ipynb>data table notebook</a>'\n",
              "            + ' to learn more about interactive tables.';\n",
              "          element.innerHTML = '';\n",
              "          dataTable['output_type'] = 'display_data';\n",
              "          await google.colab.output.renderOutput(dataTable, element);\n",
              "          const docLink = document.createElement('div');\n",
              "          docLink.innerHTML = docLinkHtml;\n",
              "          element.appendChild(docLink);\n",
              "        }\n",
              "      </script>\n",
              "    </div>\n",
              "  </div>\n",
              "  "
            ]
          },
          "metadata": {},
          "execution_count": 14
        }
      ],
      "source": [
        "X.head()"
      ]
    },
    {
      "cell_type": "code",
      "execution_count": 15,
      "id": "281af460",
      "metadata": {
        "colab": {
          "base_uri": "https://localhost:8080/"
        },
        "id": "281af460",
        "outputId": "5deee74e-30c0-4732-b713-cd56df1ddcd7"
      },
      "outputs": [
        {
          "output_type": "execute_result",
          "data": {
            "text/plain": [
              "0    Applications Developer\n",
              "1    Applications Developer\n",
              "2    Applications Developer\n",
              "3    Applications Developer\n",
              "4    Applications Developer\n",
              "Name: Suggested Job Role, dtype: object"
            ]
          },
          "metadata": {},
          "execution_count": 15
        }
      ],
      "source": [
        "y.head()"
      ]
    },
    {
      "cell_type": "code",
      "execution_count": 16,
      "id": "c4eeb278",
      "metadata": {
        "colab": {
          "base_uri": "https://localhost:8080/"
        },
        "id": "c4eeb278",
        "outputId": "156f8725-d9d3-4f4d-dd4d-8ed541a58da9"
      },
      "outputs": [
        {
          "output_type": "execute_result",
          "data": {
            "text/plain": [
              "((5175, 7), (1726, 7))"
            ]
          },
          "metadata": {},
          "execution_count": 16
        }
      ],
      "source": [
        "X_train, X_test, y_train, y_test = train_test_split(X, y, test_size=0.25, random_state=0)\n",
        "X_train.shape, X_test.shape"
      ]
    },
    {
      "cell_type": "code",
      "execution_count": 17,
      "id": "10d2afe3",
      "metadata": {
        "id": "10d2afe3"
      },
      "outputs": [],
      "source": [
        "model = DecisionTreeClassifier(random_state=1)\n",
        "model = model.fit(X_train, y_train)\n",
        "\n",
        "y_pred = model.predict(X_test)"
      ]
    },
    {
      "cell_type": "code",
      "execution_count": 18,
      "id": "be136ed6",
      "metadata": {
        "id": "be136ed6"
      },
      "outputs": [],
      "source": [
        "accuracy_train = model.score(X_train, y_train)\n",
        "accuracy_test  = model.score(X_test, y_test)"
      ]
    },
    {
      "cell_type": "markdown",
      "id": "7a8ee52d",
      "metadata": {
        "id": "7a8ee52d"
      },
      "source": [
        "# 8. Evaluation"
      ]
    },
    {
      "cell_type": "code",
      "execution_count": 19,
      "id": "4a8f9330",
      "metadata": {
        "colab": {
          "base_uri": "https://localhost:8080/"
        },
        "id": "4a8f9330",
        "outputId": "8217d13a-8b8f-4dde-a5bf-b07d6558c818"
      },
      "outputs": [
        {
          "output_type": "stream",
          "name": "stdout",
          "text": [
            "Akurasi Model (Train) : 99.07 %\n",
            "Akurasi Model (Test)  : 7.71 %\n"
          ]
        }
      ],
      "source": [
        "print(f\"Akurasi Model (Train) : {np.round(accuracy_train * 100,2)} %\")\n",
        "print(f\"Akurasi Model (Test)  : {np.round(accuracy_test * 100,2)} %\")"
      ]
    },
    {
      "cell_type": "code",
      "execution_count": 20,
      "id": "19898074",
      "metadata": {
        "scrolled": true,
        "colab": {
          "base_uri": "https://localhost:8080/"
        },
        "id": "19898074",
        "outputId": "914fcbf3-c692-4ea6-dc09-388a11de3f76"
      },
      "outputs": [
        {
          "output_type": "stream",
          "name": "stdout",
          "text": [
            "confusion matrics=\n",
            " [[10  6 14 13 15  7 17 18 10 14 16 11]\n",
            " [10  4 13 12 10 14  5  7 11 11 17  6]\n",
            " [15 12  9 14 13  7 15 12  9  9 13  7]\n",
            " [15 11 12  5 10 17 10 14 15 20  8 10]\n",
            " [20 12 15 11  9 14 12  8 10 16 21 12]\n",
            " [10 12 17  8 15 19 11 16 10  8  8 11]\n",
            " [19 14 15  6 22 13  9 11 12 12 18 14]\n",
            " [11 13 14 12 18 11  7 11  9 10 10 11]\n",
            " [ 5 11 12 11 19 12 11 10 14 14 11  8]\n",
            " [11 10 13  7 10  9 14 13 12 10 10 15]\n",
            " [15 10 11  9 13 10  9 15 18  9 18 14]\n",
            " [12 17  9 14 19  8 13 12  7  9  8 15]]\n"
          ]
        }
      ],
      "source": [
        "cm = confusion_matrix(y_test,y_pred)\n",
        "accuracy = accuracy_score(y_test,y_pred)\n",
        "print(\"confusion matrics=\\n\",cm)"
      ]
    },
    {
      "cell_type": "markdown",
      "id": "c931cde8",
      "metadata": {
        "id": "c931cde8"
      },
      "source": [
        "## Save Model"
      ]
    },
    {
      "cell_type": "code",
      "execution_count": 21,
      "id": "1ace1535",
      "metadata": {
        "colab": {
          "base_uri": "https://localhost:8080/"
        },
        "id": "1ace1535",
        "outputId": "e2d208a2-13f2-4182-9724-59f62f9f1bd9"
      },
      "outputs": [
        {
          "output_type": "execute_result",
          "data": {
            "text/plain": [
              "['model_job_dt.model']"
            ]
          },
          "metadata": {},
          "execution_count": 21
        }
      ],
      "source": [
        "joblib.dump((model), \"model_job_dt.model\")"
      ]
    },
    {
      "cell_type": "markdown",
      "id": "1a72bcc9",
      "metadata": {
        "id": "1a72bcc9"
      },
      "source": [
        "# 9. Predicting Class"
      ]
    },
    {
      "cell_type": "code",
      "execution_count": 22,
      "id": "8f09396e",
      "metadata": {
        "colab": {
          "base_uri": "https://localhost:8080/"
        },
        "id": "8f09396e",
        "outputId": "0b43cd24-f465-4a1d-eff0-4e564d25faa9"
      },
      "outputs": [
        {
          "output_type": "stream",
          "name": "stdout",
          "text": [
            "['Software Quality Assurance (QA) / Testing']\n",
            "Probabilities of all classes:  [[0. 0. 0. 0. 0. 0. 0. 1. 0. 0. 0. 0.]]\n",
            "Probability of Predicted class :  1.0\n"
          ]
        },
        {
          "output_type": "stream",
          "name": "stderr",
          "text": [
            "/usr/local/lib/python3.8/dist-packages/sklearn/base.py:450: UserWarning: X does not have valid feature names, but DecisionTreeClassifier was fitted with feature names\n",
            "  warnings.warn(\n",
            "/usr/local/lib/python3.8/dist-packages/sklearn/base.py:450: UserWarning: X does not have valid feature names, but DecisionTreeClassifier was fitted with feature names\n",
            "  warnings.warn(\n"
          ]
        }
      ],
      "source": [
        "userdata = [['5','2','0','3','2','4','1']]\n",
        "ynewclass = model.predict(userdata)\n",
        "ynew = model.predict_proba(userdata)\n",
        "print(ynewclass)\n",
        "print(\"Probabilities of all classes: \", ynew)\n",
        "print(\"Probability of Predicted class : \", np.max(ynew))"
      ]
    }
  ],
  "metadata": {
    "kernelspec": {
      "display_name": "Python 3.8.5 ('base')",
      "language": "python",
      "name": "python3"
    },
    "language_info": {
      "codemirror_mode": {
        "name": "ipython",
        "version": 3
      },
      "file_extension": ".py",
      "mimetype": "text/x-python",
      "name": "python",
      "nbconvert_exporter": "python",
      "pygments_lexer": "ipython3",
      "version": "3.8.5"
    },
    "vscode": {
      "interpreter": {
        "hash": "23bf0724a01b6ea9814e66f76182ea78c0ee849a72ca257c0e116bf83bb4960a"
      }
    },
    "colab": {
      "provenance": []
    }
  },
  "nbformat": 4,
  "nbformat_minor": 5
}